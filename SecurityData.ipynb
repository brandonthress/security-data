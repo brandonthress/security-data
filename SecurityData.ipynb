{
 "cells": [
  {
   "cell_type": "code",
   "execution_count": 1,
   "id": "d929e44a",
   "metadata": {},
   "outputs": [],
   "source": [
    "import numpy as np\n",
    "import pandas as pd\n",
    "from sklearn.model_selection import train_test_split\n",
    "from sklearn.neighbors import KNeighborsClassifier\n",
    "from sklearn.metrics import accuracy_score, confusion_matrix\n",
    "from sklearn.tree import DecisionTreeClassifier, plot_tree\n",
    "from sklearn import tree\n",
    "import matplotlib.pyplot as plt\n",
    "import seaborn as sns\n",
    "import graphviz\n",
    "\n",
    "import warnings\n",
    "warnings.filterwarnings('ignore')"
   ]
  },
  {
   "cell_type": "markdown",
   "id": "2f8d6eae",
   "metadata": {},
   "source": [
    "## Part 1: Data Cleaning"
   ]
  },
  {
   "cell_type": "markdown",
   "id": "6883afef",
   "metadata": {},
   "source": [
    "Benign CSVs"
   ]
  },
  {
   "cell_type": "code",
   "execution_count": 2,
   "id": "9bad1d96",
   "metadata": {},
   "outputs": [],
   "source": [
    "benignChrome = pd.read_csv(\"./BenignDoH-NonDoH-CSVs/CSVs/Chrome/all.csv\")\n",
    "benignFirefox = pd.read_csv(\"./BenignDoH-NonDoH-CSVs/CSVs/Firefox/all.csv\")"
   ]
  },
  {
   "cell_type": "code",
   "execution_count": 3,
   "id": "8ded8527",
   "metadata": {},
   "outputs": [],
   "source": [
    "# benignChrome.head()"
   ]
  },
  {
   "cell_type": "code",
   "execution_count": 4,
   "id": "7f2301bd",
   "metadata": {},
   "outputs": [],
   "source": [
    "# benignFirefox.head()"
   ]
  },
  {
   "cell_type": "markdown",
   "id": "55445c48",
   "metadata": {},
   "source": [
    "Malicious CSVs"
   ]
  },
  {
   "cell_type": "code",
   "execution_count": 3,
   "id": "996e1bfb",
   "metadata": {},
   "outputs": [],
   "source": [
    "dns2tcp = pd.read_csv(\"./MaliciousDoH-CSVs/CSVs/dns2tcp/all.csv\")\n",
    "dnscat2 = pd.read_csv(\"./MaliciousDoH-CSVs/CSVs/dnscat2/all.csv\")\n",
    "iodine = pd.read_csv(\"./MaliciousDoH-CSVs/CSVs/iodine/all.csv\")"
   ]
  },
  {
   "cell_type": "code",
   "execution_count": 6,
   "id": "2aab69c8",
   "metadata": {},
   "outputs": [],
   "source": [
    "# dns2tcp.head()"
   ]
  },
  {
   "cell_type": "code",
   "execution_count": 7,
   "id": "070da32e",
   "metadata": {},
   "outputs": [],
   "source": [
    "# dnscat2.head()"
   ]
  },
  {
   "cell_type": "code",
   "execution_count": 8,
   "id": "a17e2bfb",
   "metadata": {},
   "outputs": [],
   "source": [
    "# iodine.head()"
   ]
  },
  {
   "cell_type": "markdown",
   "id": "454dfadc",
   "metadata": {},
   "source": [
    "Add \"Malicious\" column containing integer value (0 = Benign, 1 = Malicious)"
   ]
  },
  {
   "cell_type": "code",
   "execution_count": 4,
   "id": "59ac66e2",
   "metadata": {},
   "outputs": [],
   "source": [
    "benignChrome = benignChrome.assign(Malicious = 0)\n",
    "benignFirefox = benignFirefox.assign(Malicious = 0)\n",
    "dns2tcp = dns2tcp.assign(Malicious = 1)\n",
    "dnscat2 = dnscat2.assign(Malicious = 1)\n",
    "iodine = iodine.assign(Malicious = 1)"
   ]
  },
  {
   "cell_type": "code",
   "execution_count": 5,
   "id": "ea11ecc8",
   "metadata": {},
   "outputs": [
    {
     "data": {
      "text/html": [
       "<div>\n",
       "<style scoped>\n",
       "    .dataframe tbody tr th:only-of-type {\n",
       "        vertical-align: middle;\n",
       "    }\n",
       "\n",
       "    .dataframe tbody tr th {\n",
       "        vertical-align: top;\n",
       "    }\n",
       "\n",
       "    .dataframe thead th {\n",
       "        text-align: right;\n",
       "    }\n",
       "</style>\n",
       "<table border=\"1\" class=\"dataframe\">\n",
       "  <thead>\n",
       "    <tr style=\"text-align: right;\">\n",
       "      <th></th>\n",
       "      <th>SourceIP</th>\n",
       "      <th>DestinationIP</th>\n",
       "      <th>SourcePort</th>\n",
       "      <th>DestinationPort</th>\n",
       "      <th>TimeStamp</th>\n",
       "      <th>Duration</th>\n",
       "      <th>FlowBytesSent</th>\n",
       "      <th>FlowSentRate</th>\n",
       "      <th>FlowBytesReceived</th>\n",
       "      <th>FlowReceivedRate</th>\n",
       "      <th>...</th>\n",
       "      <th>ResponseTimeTimeVariance</th>\n",
       "      <th>ResponseTimeTimeStandardDeviation</th>\n",
       "      <th>ResponseTimeTimeMean</th>\n",
       "      <th>ResponseTimeTimeMedian</th>\n",
       "      <th>ResponseTimeTimeMode</th>\n",
       "      <th>ResponseTimeTimeSkewFromMedian</th>\n",
       "      <th>ResponseTimeTimeSkewFromMode</th>\n",
       "      <th>ResponseTimeTimeCoefficientofVariation</th>\n",
       "      <th>DoH</th>\n",
       "      <th>Malicious</th>\n",
       "    </tr>\n",
       "  </thead>\n",
       "  <tbody>\n",
       "    <tr>\n",
       "      <th>0</th>\n",
       "      <td>72.21.91.42</td>\n",
       "      <td>192.168.20.191</td>\n",
       "      <td>443</td>\n",
       "      <td>51041</td>\n",
       "      <td>2020-01-14 15:49:01</td>\n",
       "      <td>4.544040</td>\n",
       "      <td>11256331</td>\n",
       "      <td>2.477164e+06</td>\n",
       "      <td>159324</td>\n",
       "      <td>35062.191354</td>\n",
       "      <td>...</td>\n",
       "      <td>1.107852e-07</td>\n",
       "      <td>0.000333</td>\n",
       "      <td>0.000027</td>\n",
       "      <td>0.000016</td>\n",
       "      <td>0.000014</td>\n",
       "      <td>0.096659</td>\n",
       "      <td>0.038228</td>\n",
       "      <td>12.454823</td>\n",
       "      <td>False</td>\n",
       "      <td>0</td>\n",
       "    </tr>\n",
       "    <tr>\n",
       "      <th>1</th>\n",
       "      <td>192.168.20.191</td>\n",
       "      <td>195.201.169.48</td>\n",
       "      <td>51043</td>\n",
       "      <td>443</td>\n",
       "      <td>2020-01-14 15:49:03</td>\n",
       "      <td>8.171041</td>\n",
       "      <td>930</td>\n",
       "      <td>1.138166e+02</td>\n",
       "      <td>11936</td>\n",
       "      <td>1460.768585</td>\n",
       "      <td>...</td>\n",
       "      <td>3.224052e+00</td>\n",
       "      <td>1.795565</td>\n",
       "      <td>0.886579</td>\n",
       "      <td>0.103698</td>\n",
       "      <td>0.000900</td>\n",
       "      <td>1.308024</td>\n",
       "      <td>0.493259</td>\n",
       "      <td>2.025273</td>\n",
       "      <td>False</td>\n",
       "      <td>0</td>\n",
       "    </tr>\n",
       "    <tr>\n",
       "      <th>2</th>\n",
       "      <td>192.168.20.191</td>\n",
       "      <td>96.17.115.57</td>\n",
       "      <td>51021</td>\n",
       "      <td>443</td>\n",
       "      <td>2020-01-14 15:49:03</td>\n",
       "      <td>0.033776</td>\n",
       "      <td>162</td>\n",
       "      <td>4.796305e+03</td>\n",
       "      <td>138</td>\n",
       "      <td>4085.741355</td>\n",
       "      <td>...</td>\n",
       "      <td>0.000000e+00</td>\n",
       "      <td>0.000000</td>\n",
       "      <td>0.033683</td>\n",
       "      <td>0.033683</td>\n",
       "      <td>0.033683</td>\n",
       "      <td>-10.000000</td>\n",
       "      <td>-10.000000</td>\n",
       "      <td>0.000000</td>\n",
       "      <td>False</td>\n",
       "      <td>0</td>\n",
       "    </tr>\n",
       "    <tr>\n",
       "      <th>3</th>\n",
       "      <td>192.168.20.191</td>\n",
       "      <td>96.114.14.140</td>\n",
       "      <td>50308</td>\n",
       "      <td>443</td>\n",
       "      <td>2020-01-14 15:49:03</td>\n",
       "      <td>0.060723</td>\n",
       "      <td>108</td>\n",
       "      <td>1.778568e+03</td>\n",
       "      <td>120</td>\n",
       "      <td>1976.186947</td>\n",
       "      <td>...</td>\n",
       "      <td>0.000000e+00</td>\n",
       "      <td>0.000000</td>\n",
       "      <td>0.060687</td>\n",
       "      <td>0.060687</td>\n",
       "      <td>0.060687</td>\n",
       "      <td>-10.000000</td>\n",
       "      <td>-10.000000</td>\n",
       "      <td>0.000000</td>\n",
       "      <td>False</td>\n",
       "      <td>0</td>\n",
       "    </tr>\n",
       "    <tr>\n",
       "      <th>4</th>\n",
       "      <td>192.168.20.191</td>\n",
       "      <td>23.78.199.198</td>\n",
       "      <td>50983</td>\n",
       "      <td>443</td>\n",
       "      <td>2020-01-14 15:49:03</td>\n",
       "      <td>0.019545</td>\n",
       "      <td>55</td>\n",
       "      <td>2.814019e+03</td>\n",
       "      <td>66</td>\n",
       "      <td>3376.822717</td>\n",
       "      <td>...</td>\n",
       "      <td>0.000000e+00</td>\n",
       "      <td>0.000000</td>\n",
       "      <td>0.019545</td>\n",
       "      <td>0.019545</td>\n",
       "      <td>0.019545</td>\n",
       "      <td>-10.000000</td>\n",
       "      <td>-10.000000</td>\n",
       "      <td>0.000000</td>\n",
       "      <td>False</td>\n",
       "      <td>0</td>\n",
       "    </tr>\n",
       "  </tbody>\n",
       "</table>\n",
       "<p>5 rows × 36 columns</p>\n",
       "</div>"
      ],
      "text/plain": [
       "         SourceIP   DestinationIP  SourcePort  DestinationPort  \\\n",
       "0     72.21.91.42  192.168.20.191         443            51041   \n",
       "1  192.168.20.191  195.201.169.48       51043              443   \n",
       "2  192.168.20.191    96.17.115.57       51021              443   \n",
       "3  192.168.20.191   96.114.14.140       50308              443   \n",
       "4  192.168.20.191   23.78.199.198       50983              443   \n",
       "\n",
       "             TimeStamp  Duration  FlowBytesSent  FlowSentRate  \\\n",
       "0  2020-01-14 15:49:01  4.544040       11256331  2.477164e+06   \n",
       "1  2020-01-14 15:49:03  8.171041            930  1.138166e+02   \n",
       "2  2020-01-14 15:49:03  0.033776            162  4.796305e+03   \n",
       "3  2020-01-14 15:49:03  0.060723            108  1.778568e+03   \n",
       "4  2020-01-14 15:49:03  0.019545             55  2.814019e+03   \n",
       "\n",
       "   FlowBytesReceived  FlowReceivedRate  ...  ResponseTimeTimeVariance  \\\n",
       "0             159324      35062.191354  ...              1.107852e-07   \n",
       "1              11936       1460.768585  ...              3.224052e+00   \n",
       "2                138       4085.741355  ...              0.000000e+00   \n",
       "3                120       1976.186947  ...              0.000000e+00   \n",
       "4                 66       3376.822717  ...              0.000000e+00   \n",
       "\n",
       "   ResponseTimeTimeStandardDeviation  ResponseTimeTimeMean  \\\n",
       "0                           0.000333              0.000027   \n",
       "1                           1.795565              0.886579   \n",
       "2                           0.000000              0.033683   \n",
       "3                           0.000000              0.060687   \n",
       "4                           0.000000              0.019545   \n",
       "\n",
       "   ResponseTimeTimeMedian  ResponseTimeTimeMode  \\\n",
       "0                0.000016              0.000014   \n",
       "1                0.103698              0.000900   \n",
       "2                0.033683              0.033683   \n",
       "3                0.060687              0.060687   \n",
       "4                0.019545              0.019545   \n",
       "\n",
       "   ResponseTimeTimeSkewFromMedian  ResponseTimeTimeSkewFromMode  \\\n",
       "0                        0.096659                      0.038228   \n",
       "1                        1.308024                      0.493259   \n",
       "2                      -10.000000                    -10.000000   \n",
       "3                      -10.000000                    -10.000000   \n",
       "4                      -10.000000                    -10.000000   \n",
       "\n",
       "   ResponseTimeTimeCoefficientofVariation    DoH  Malicious  \n",
       "0                               12.454823  False          0  \n",
       "1                                2.025273  False          0  \n",
       "2                                0.000000  False          0  \n",
       "3                                0.000000  False          0  \n",
       "4                                0.000000  False          0  \n",
       "\n",
       "[5 rows x 36 columns]"
      ]
     },
     "execution_count": 5,
     "metadata": {},
     "output_type": "execute_result"
    }
   ],
   "source": [
    "benignChrome.head()"
   ]
  },
  {
   "cell_type": "markdown",
   "id": "3d98c202",
   "metadata": {},
   "source": [
    "Combine benign + malicious datasets"
   ]
  },
  {
   "cell_type": "code",
   "execution_count": 6,
   "id": "aad066f2",
   "metadata": {},
   "outputs": [],
   "source": [
    "requests = pd.concat([benignChrome, benignFirefox, dns2tcp, dnscat2, iodine], ignore_index = True)\n",
    "\n",
    "#remove missing values\n",
    "requests = requests.dropna()"
   ]
  },
  {
   "cell_type": "code",
   "execution_count": 12,
   "id": "32d1ef3f",
   "metadata": {},
   "outputs": [],
   "source": [
    "# requests.head()"
   ]
  },
  {
   "cell_type": "markdown",
   "id": "53241057",
   "metadata": {},
   "source": [
    "Only include columns with numerical values (int, float)"
   ]
  },
  {
   "cell_type": "code",
   "execution_count": 13,
   "id": "7020b233",
   "metadata": {},
   "outputs": [],
   "source": [
    "# requests.dtypes"
   ]
  },
  {
   "cell_type": "code",
   "execution_count": 7,
   "id": "aed6081d",
   "metadata": {},
   "outputs": [],
   "source": [
    "# we only need to remove four columns\n",
    "requests = requests.drop(['SourceIP', 'DestinationIP', 'TimeStamp', 'DoH'], axis=1)"
   ]
  },
  {
   "cell_type": "code",
   "execution_count": 9,
   "id": "2a2af034",
   "metadata": {},
   "outputs": [
    {
     "data": {
      "text/html": [
       "<div>\n",
       "<style scoped>\n",
       "    .dataframe tbody tr th:only-of-type {\n",
       "        vertical-align: middle;\n",
       "    }\n",
       "\n",
       "    .dataframe tbody tr th {\n",
       "        vertical-align: top;\n",
       "    }\n",
       "\n",
       "    .dataframe thead th {\n",
       "        text-align: right;\n",
       "    }\n",
       "</style>\n",
       "<table border=\"1\" class=\"dataframe\">\n",
       "  <thead>\n",
       "    <tr style=\"text-align: right;\">\n",
       "      <th></th>\n",
       "      <th>SourcePort</th>\n",
       "      <th>DestinationPort</th>\n",
       "      <th>Duration</th>\n",
       "      <th>FlowBytesSent</th>\n",
       "      <th>FlowSentRate</th>\n",
       "      <th>FlowBytesReceived</th>\n",
       "      <th>FlowReceivedRate</th>\n",
       "      <th>PacketLengthVariance</th>\n",
       "      <th>PacketLengthStandardDeviation</th>\n",
       "      <th>PacketLengthMean</th>\n",
       "      <th>...</th>\n",
       "      <th>PacketTimeCoefficientofVariation</th>\n",
       "      <th>ResponseTimeTimeVariance</th>\n",
       "      <th>ResponseTimeTimeStandardDeviation</th>\n",
       "      <th>ResponseTimeTimeMean</th>\n",
       "      <th>ResponseTimeTimeMedian</th>\n",
       "      <th>ResponseTimeTimeMode</th>\n",
       "      <th>ResponseTimeTimeSkewFromMedian</th>\n",
       "      <th>ResponseTimeTimeSkewFromMode</th>\n",
       "      <th>ResponseTimeTimeCoefficientofVariation</th>\n",
       "      <th>Malicious</th>\n",
       "    </tr>\n",
       "  </thead>\n",
       "  <tbody>\n",
       "    <tr>\n",
       "      <th>0</th>\n",
       "      <td>443</td>\n",
       "      <td>51041</td>\n",
       "      <td>4.544040</td>\n",
       "      <td>11256331</td>\n",
       "      <td>2.477164e+06</td>\n",
       "      <td>159324</td>\n",
       "      <td>35062.191354</td>\n",
       "      <td>427496.394703</td>\n",
       "      <td>653.832084</td>\n",
       "      <td>1106.811615</td>\n",
       "      <td>...</td>\n",
       "      <td>0.580949</td>\n",
       "      <td>1.107852e-07</td>\n",
       "      <td>0.000333</td>\n",
       "      <td>0.000027</td>\n",
       "      <td>0.000016</td>\n",
       "      <td>0.000014</td>\n",
       "      <td>0.096659</td>\n",
       "      <td>0.038228</td>\n",
       "      <td>12.454823</td>\n",
       "      <td>0</td>\n",
       "    </tr>\n",
       "    <tr>\n",
       "      <th>1</th>\n",
       "      <td>51043</td>\n",
       "      <td>443</td>\n",
       "      <td>8.171041</td>\n",
       "      <td>930</td>\n",
       "      <td>1.138166e+02</td>\n",
       "      <td>11936</td>\n",
       "      <td>1460.768585</td>\n",
       "      <td>434289.817175</td>\n",
       "      <td>659.006690</td>\n",
       "      <td>677.157895</td>\n",
       "      <td>...</td>\n",
       "      <td>1.745138</td>\n",
       "      <td>3.224052e+00</td>\n",
       "      <td>1.795565</td>\n",
       "      <td>0.886579</td>\n",
       "      <td>0.103698</td>\n",
       "      <td>0.000900</td>\n",
       "      <td>1.308024</td>\n",
       "      <td>0.493259</td>\n",
       "      <td>2.025273</td>\n",
       "      <td>0</td>\n",
       "    </tr>\n",
       "    <tr>\n",
       "      <th>2</th>\n",
       "      <td>51021</td>\n",
       "      <td>443</td>\n",
       "      <td>0.033776</td>\n",
       "      <td>162</td>\n",
       "      <td>4.796305e+03</td>\n",
       "      <td>138</td>\n",
       "      <td>4085.741355</td>\n",
       "      <td>86.400000</td>\n",
       "      <td>9.295160</td>\n",
       "      <td>60.000000</td>\n",
       "      <td>...</td>\n",
       "      <td>0.500002</td>\n",
       "      <td>0.000000e+00</td>\n",
       "      <td>0.000000</td>\n",
       "      <td>0.033683</td>\n",
       "      <td>0.033683</td>\n",
       "      <td>0.033683</td>\n",
       "      <td>-10.000000</td>\n",
       "      <td>-10.000000</td>\n",
       "      <td>0.000000</td>\n",
       "      <td>0</td>\n",
       "    </tr>\n",
       "    <tr>\n",
       "      <th>3</th>\n",
       "      <td>50308</td>\n",
       "      <td>443</td>\n",
       "      <td>0.060723</td>\n",
       "      <td>108</td>\n",
       "      <td>1.778568e+03</td>\n",
       "      <td>120</td>\n",
       "      <td>1976.186947</td>\n",
       "      <td>9.000000</td>\n",
       "      <td>3.000000</td>\n",
       "      <td>57.000000</td>\n",
       "      <td>...</td>\n",
       "      <td>0.577350</td>\n",
       "      <td>0.000000e+00</td>\n",
       "      <td>0.000000</td>\n",
       "      <td>0.060687</td>\n",
       "      <td>0.060687</td>\n",
       "      <td>0.060687</td>\n",
       "      <td>-10.000000</td>\n",
       "      <td>-10.000000</td>\n",
       "      <td>0.000000</td>\n",
       "      <td>0</td>\n",
       "    </tr>\n",
       "    <tr>\n",
       "      <th>4</th>\n",
       "      <td>50983</td>\n",
       "      <td>443</td>\n",
       "      <td>0.019545</td>\n",
       "      <td>55</td>\n",
       "      <td>2.814019e+03</td>\n",
       "      <td>66</td>\n",
       "      <td>3376.822717</td>\n",
       "      <td>30.250000</td>\n",
       "      <td>5.500000</td>\n",
       "      <td>60.500000</td>\n",
       "      <td>...</td>\n",
       "      <td>1.000000</td>\n",
       "      <td>0.000000e+00</td>\n",
       "      <td>0.000000</td>\n",
       "      <td>0.019545</td>\n",
       "      <td>0.019545</td>\n",
       "      <td>0.019545</td>\n",
       "      <td>-10.000000</td>\n",
       "      <td>-10.000000</td>\n",
       "      <td>0.000000</td>\n",
       "      <td>0</td>\n",
       "    </tr>\n",
       "    <tr>\n",
       "      <th>...</th>\n",
       "      <td>...</td>\n",
       "      <td>...</td>\n",
       "      <td>...</td>\n",
       "      <td>...</td>\n",
       "      <td>...</td>\n",
       "      <td>...</td>\n",
       "      <td>...</td>\n",
       "      <td>...</td>\n",
       "      <td>...</td>\n",
       "      <td>...</td>\n",
       "      <td>...</td>\n",
       "      <td>...</td>\n",
       "      <td>...</td>\n",
       "      <td>...</td>\n",
       "      <td>...</td>\n",
       "      <td>...</td>\n",
       "      <td>...</td>\n",
       "      <td>...</td>\n",
       "      <td>...</td>\n",
       "      <td>...</td>\n",
       "      <td>...</td>\n",
       "    </tr>\n",
       "    <tr>\n",
       "      <th>1167264</th>\n",
       "      <td>443</td>\n",
       "      <td>41626</td>\n",
       "      <td>120.012429</td>\n",
       "      <td>217100</td>\n",
       "      <td>1.808979e+03</td>\n",
       "      <td>41923</td>\n",
       "      <td>349.322152</td>\n",
       "      <td>214830.714120</td>\n",
       "      <td>463.498343</td>\n",
       "      <td>320.176761</td>\n",
       "      <td>...</td>\n",
       "      <td>0.585742</td>\n",
       "      <td>2.274068e-01</td>\n",
       "      <td>0.476872</td>\n",
       "      <td>0.382940</td>\n",
       "      <td>0.000046</td>\n",
       "      <td>0.000027</td>\n",
       "      <td>2.408789</td>\n",
       "      <td>0.802968</td>\n",
       "      <td>1.245291</td>\n",
       "      <td>1</td>\n",
       "    </tr>\n",
       "    <tr>\n",
       "      <th>1167265</th>\n",
       "      <td>41626</td>\n",
       "      <td>443</td>\n",
       "      <td>120.879732</td>\n",
       "      <td>40289</td>\n",
       "      <td>3.332982e+02</td>\n",
       "      <td>221771</td>\n",
       "      <td>1834.641725</td>\n",
       "      <td>229502.693788</td>\n",
       "      <td>479.064394</td>\n",
       "      <td>331.302149</td>\n",
       "      <td>...</td>\n",
       "      <td>0.581312</td>\n",
       "      <td>5.684849e-05</td>\n",
       "      <td>0.007540</td>\n",
       "      <td>0.008552</td>\n",
       "      <td>0.010455</td>\n",
       "      <td>0.014937</td>\n",
       "      <td>-0.757083</td>\n",
       "      <td>-0.846807</td>\n",
       "      <td>0.881615</td>\n",
       "      <td>1</td>\n",
       "    </tr>\n",
       "    <tr>\n",
       "      <th>1167266</th>\n",
       "      <td>443</td>\n",
       "      <td>41626</td>\n",
       "      <td>120.920561</td>\n",
       "      <td>221267</td>\n",
       "      <td>1.829854e+03</td>\n",
       "      <td>41495</td>\n",
       "      <td>343.159175</td>\n",
       "      <td>220428.001850</td>\n",
       "      <td>469.497606</td>\n",
       "      <td>326.818408</td>\n",
       "      <td>...</td>\n",
       "      <td>0.590254</td>\n",
       "      <td>2.270938e-01</td>\n",
       "      <td>0.476544</td>\n",
       "      <td>0.403571</td>\n",
       "      <td>0.000061</td>\n",
       "      <td>0.000024</td>\n",
       "      <td>2.540230</td>\n",
       "      <td>0.846820</td>\n",
       "      <td>1.180818</td>\n",
       "      <td>1</td>\n",
       "    </tr>\n",
       "    <tr>\n",
       "      <th>1167267</th>\n",
       "      <td>443</td>\n",
       "      <td>41626</td>\n",
       "      <td>120.092647</td>\n",
       "      <td>205272</td>\n",
       "      <td>1.709280e+03</td>\n",
       "      <td>39744</td>\n",
       "      <td>330.944492</td>\n",
       "      <td>215508.358361</td>\n",
       "      <td>464.228778</td>\n",
       "      <td>321.543307</td>\n",
       "      <td>...</td>\n",
       "      <td>0.573007</td>\n",
       "      <td>2.295924e-01</td>\n",
       "      <td>0.479158</td>\n",
       "      <td>0.410493</td>\n",
       "      <td>0.000056</td>\n",
       "      <td>0.000024</td>\n",
       "      <td>2.569741</td>\n",
       "      <td>0.856647</td>\n",
       "      <td>1.167274</td>\n",
       "      <td>1</td>\n",
       "    </tr>\n",
       "    <tr>\n",
       "      <th>1167268</th>\n",
       "      <td>443</td>\n",
       "      <td>41626</td>\n",
       "      <td>65.034256</td>\n",
       "      <td>118867</td>\n",
       "      <td>1.827760e+03</td>\n",
       "      <td>22225</td>\n",
       "      <td>341.742973</td>\n",
       "      <td>214804.539464</td>\n",
       "      <td>463.470106</td>\n",
       "      <td>321.394077</td>\n",
       "      <td>...</td>\n",
       "      <td>0.594722</td>\n",
       "      <td>2.332363e-01</td>\n",
       "      <td>0.482945</td>\n",
       "      <td>0.415111</td>\n",
       "      <td>0.000042</td>\n",
       "      <td>0.000024</td>\n",
       "      <td>2.578357</td>\n",
       "      <td>0.859490</td>\n",
       "      <td>1.163414</td>\n",
       "      <td>1</td>\n",
       "    </tr>\n",
       "  </tbody>\n",
       "</table>\n",
       "<p>1159241 rows × 32 columns</p>\n",
       "</div>"
      ],
      "text/plain": [
       "         SourcePort  DestinationPort    Duration  FlowBytesSent  FlowSentRate  \\\n",
       "0               443            51041    4.544040       11256331  2.477164e+06   \n",
       "1             51043              443    8.171041            930  1.138166e+02   \n",
       "2             51021              443    0.033776            162  4.796305e+03   \n",
       "3             50308              443    0.060723            108  1.778568e+03   \n",
       "4             50983              443    0.019545             55  2.814019e+03   \n",
       "...             ...              ...         ...            ...           ...   \n",
       "1167264         443            41626  120.012429         217100  1.808979e+03   \n",
       "1167265       41626              443  120.879732          40289  3.332982e+02   \n",
       "1167266         443            41626  120.920561         221267  1.829854e+03   \n",
       "1167267         443            41626  120.092647         205272  1.709280e+03   \n",
       "1167268         443            41626   65.034256         118867  1.827760e+03   \n",
       "\n",
       "         FlowBytesReceived  FlowReceivedRate  PacketLengthVariance  \\\n",
       "0                   159324      35062.191354         427496.394703   \n",
       "1                    11936       1460.768585         434289.817175   \n",
       "2                      138       4085.741355             86.400000   \n",
       "3                      120       1976.186947              9.000000   \n",
       "4                       66       3376.822717             30.250000   \n",
       "...                    ...               ...                   ...   \n",
       "1167264              41923        349.322152         214830.714120   \n",
       "1167265             221771       1834.641725         229502.693788   \n",
       "1167266              41495        343.159175         220428.001850   \n",
       "1167267              39744        330.944492         215508.358361   \n",
       "1167268              22225        341.742973         214804.539464   \n",
       "\n",
       "         PacketLengthStandardDeviation  PacketLengthMean  ...  \\\n",
       "0                           653.832084       1106.811615  ...   \n",
       "1                           659.006690        677.157895  ...   \n",
       "2                             9.295160         60.000000  ...   \n",
       "3                             3.000000         57.000000  ...   \n",
       "4                             5.500000         60.500000  ...   \n",
       "...                                ...               ...  ...   \n",
       "1167264                     463.498343        320.176761  ...   \n",
       "1167265                     479.064394        331.302149  ...   \n",
       "1167266                     469.497606        326.818408  ...   \n",
       "1167267                     464.228778        321.543307  ...   \n",
       "1167268                     463.470106        321.394077  ...   \n",
       "\n",
       "         PacketTimeCoefficientofVariation  ResponseTimeTimeVariance  \\\n",
       "0                                0.580949              1.107852e-07   \n",
       "1                                1.745138              3.224052e+00   \n",
       "2                                0.500002              0.000000e+00   \n",
       "3                                0.577350              0.000000e+00   \n",
       "4                                1.000000              0.000000e+00   \n",
       "...                                   ...                       ...   \n",
       "1167264                          0.585742              2.274068e-01   \n",
       "1167265                          0.581312              5.684849e-05   \n",
       "1167266                          0.590254              2.270938e-01   \n",
       "1167267                          0.573007              2.295924e-01   \n",
       "1167268                          0.594722              2.332363e-01   \n",
       "\n",
       "         ResponseTimeTimeStandardDeviation  ResponseTimeTimeMean  \\\n",
       "0                                 0.000333              0.000027   \n",
       "1                                 1.795565              0.886579   \n",
       "2                                 0.000000              0.033683   \n",
       "3                                 0.000000              0.060687   \n",
       "4                                 0.000000              0.019545   \n",
       "...                                    ...                   ...   \n",
       "1167264                           0.476872              0.382940   \n",
       "1167265                           0.007540              0.008552   \n",
       "1167266                           0.476544              0.403571   \n",
       "1167267                           0.479158              0.410493   \n",
       "1167268                           0.482945              0.415111   \n",
       "\n",
       "         ResponseTimeTimeMedian  ResponseTimeTimeMode  \\\n",
       "0                      0.000016              0.000014   \n",
       "1                      0.103698              0.000900   \n",
       "2                      0.033683              0.033683   \n",
       "3                      0.060687              0.060687   \n",
       "4                      0.019545              0.019545   \n",
       "...                         ...                   ...   \n",
       "1167264                0.000046              0.000027   \n",
       "1167265                0.010455              0.014937   \n",
       "1167266                0.000061              0.000024   \n",
       "1167267                0.000056              0.000024   \n",
       "1167268                0.000042              0.000024   \n",
       "\n",
       "         ResponseTimeTimeSkewFromMedian  ResponseTimeTimeSkewFromMode  \\\n",
       "0                              0.096659                      0.038228   \n",
       "1                              1.308024                      0.493259   \n",
       "2                            -10.000000                    -10.000000   \n",
       "3                            -10.000000                    -10.000000   \n",
       "4                            -10.000000                    -10.000000   \n",
       "...                                 ...                           ...   \n",
       "1167264                        2.408789                      0.802968   \n",
       "1167265                       -0.757083                     -0.846807   \n",
       "1167266                        2.540230                      0.846820   \n",
       "1167267                        2.569741                      0.856647   \n",
       "1167268                        2.578357                      0.859490   \n",
       "\n",
       "         ResponseTimeTimeCoefficientofVariation  Malicious  \n",
       "0                                     12.454823          0  \n",
       "1                                      2.025273          0  \n",
       "2                                      0.000000          0  \n",
       "3                                      0.000000          0  \n",
       "4                                      0.000000          0  \n",
       "...                                         ...        ...  \n",
       "1167264                                1.245291          1  \n",
       "1167265                                0.881615          1  \n",
       "1167266                                1.180818          1  \n",
       "1167267                                1.167274          1  \n",
       "1167268                                1.163414          1  \n",
       "\n",
       "[1159241 rows x 32 columns]"
      ]
     },
     "execution_count": 9,
     "metadata": {},
     "output_type": "execute_result"
    }
   ],
   "source": [
    "requests"
   ]
  },
  {
   "cell_type": "markdown",
   "id": "94bd6ba0",
   "metadata": {},
   "source": [
    "## Part 2: kNN Algorithm"
   ]
  },
  {
   "cell_type": "code",
   "execution_count": 10,
   "id": "94b7033e",
   "metadata": {},
   "outputs": [],
   "source": [
    "# set variables\n",
    "x = requests[['SourcePort', 'DestinationPort', 'Duration', 'FlowBytesSent', 'FlowSentRate', 'FlowBytesReceived', 'FlowReceivedRate', 'PacketLengthMean', 'PacketTimeMean', 'ResponseTimeTimeMean']]\n",
    "y = requests[['Malicious']]"
   ]
  },
  {
   "cell_type": "code",
   "execution_count": 11,
   "id": "0d467cdb",
   "metadata": {},
   "outputs": [],
   "source": [
    "# Split the dataset into training and testing sets\n",
    "x_train, x_test, y_train, y_test = train_test_split(x, y, test_size=0.2, random_state=42)"
   ]
  },
  {
   "cell_type": "code",
   "execution_count": 12,
   "id": "a4d9155b",
   "metadata": {},
   "outputs": [],
   "source": [
    "# Create a kNN classifier\n",
    "knn_classifier = KNeighborsClassifier(n_neighbors=10)"
   ]
  },
  {
   "cell_type": "code",
   "execution_count": 13,
   "id": "0f20db3b",
   "metadata": {},
   "outputs": [
    {
     "data": {
      "text/html": [
       "<style>#sk-container-id-1 {color: black;}#sk-container-id-1 pre{padding: 0;}#sk-container-id-1 div.sk-toggleable {background-color: white;}#sk-container-id-1 label.sk-toggleable__label {cursor: pointer;display: block;width: 100%;margin-bottom: 0;padding: 0.3em;box-sizing: border-box;text-align: center;}#sk-container-id-1 label.sk-toggleable__label-arrow:before {content: \"▸\";float: left;margin-right: 0.25em;color: #696969;}#sk-container-id-1 label.sk-toggleable__label-arrow:hover:before {color: black;}#sk-container-id-1 div.sk-estimator:hover label.sk-toggleable__label-arrow:before {color: black;}#sk-container-id-1 div.sk-toggleable__content {max-height: 0;max-width: 0;overflow: hidden;text-align: left;background-color: #f0f8ff;}#sk-container-id-1 div.sk-toggleable__content pre {margin: 0.2em;color: black;border-radius: 0.25em;background-color: #f0f8ff;}#sk-container-id-1 input.sk-toggleable__control:checked~div.sk-toggleable__content {max-height: 200px;max-width: 100%;overflow: auto;}#sk-container-id-1 input.sk-toggleable__control:checked~label.sk-toggleable__label-arrow:before {content: \"▾\";}#sk-container-id-1 div.sk-estimator input.sk-toggleable__control:checked~label.sk-toggleable__label {background-color: #d4ebff;}#sk-container-id-1 div.sk-label input.sk-toggleable__control:checked~label.sk-toggleable__label {background-color: #d4ebff;}#sk-container-id-1 input.sk-hidden--visually {border: 0;clip: rect(1px 1px 1px 1px);clip: rect(1px, 1px, 1px, 1px);height: 1px;margin: -1px;overflow: hidden;padding: 0;position: absolute;width: 1px;}#sk-container-id-1 div.sk-estimator {font-family: monospace;background-color: #f0f8ff;border: 1px dotted black;border-radius: 0.25em;box-sizing: border-box;margin-bottom: 0.5em;}#sk-container-id-1 div.sk-estimator:hover {background-color: #d4ebff;}#sk-container-id-1 div.sk-parallel-item::after {content: \"\";width: 100%;border-bottom: 1px solid gray;flex-grow: 1;}#sk-container-id-1 div.sk-label:hover label.sk-toggleable__label {background-color: #d4ebff;}#sk-container-id-1 div.sk-serial::before {content: \"\";position: absolute;border-left: 1px solid gray;box-sizing: border-box;top: 0;bottom: 0;left: 50%;z-index: 0;}#sk-container-id-1 div.sk-serial {display: flex;flex-direction: column;align-items: center;background-color: white;padding-right: 0.2em;padding-left: 0.2em;position: relative;}#sk-container-id-1 div.sk-item {position: relative;z-index: 1;}#sk-container-id-1 div.sk-parallel {display: flex;align-items: stretch;justify-content: center;background-color: white;position: relative;}#sk-container-id-1 div.sk-item::before, #sk-container-id-1 div.sk-parallel-item::before {content: \"\";position: absolute;border-left: 1px solid gray;box-sizing: border-box;top: 0;bottom: 0;left: 50%;z-index: -1;}#sk-container-id-1 div.sk-parallel-item {display: flex;flex-direction: column;z-index: 1;position: relative;background-color: white;}#sk-container-id-1 div.sk-parallel-item:first-child::after {align-self: flex-end;width: 50%;}#sk-container-id-1 div.sk-parallel-item:last-child::after {align-self: flex-start;width: 50%;}#sk-container-id-1 div.sk-parallel-item:only-child::after {width: 0;}#sk-container-id-1 div.sk-dashed-wrapped {border: 1px dashed gray;margin: 0 0.4em 0.5em 0.4em;box-sizing: border-box;padding-bottom: 0.4em;background-color: white;}#sk-container-id-1 div.sk-label label {font-family: monospace;font-weight: bold;display: inline-block;line-height: 1.2em;}#sk-container-id-1 div.sk-label-container {text-align: center;}#sk-container-id-1 div.sk-container {/* jupyter's `normalize.less` sets `[hidden] { display: none; }` but bootstrap.min.css set `[hidden] { display: none !important; }` so we also need the `!important` here to be able to override the default hidden behavior on the sphinx rendered scikit-learn.org. See: https://github.com/scikit-learn/scikit-learn/issues/21755 */display: inline-block !important;position: relative;}#sk-container-id-1 div.sk-text-repr-fallback {display: none;}</style><div id=\"sk-container-id-1\" class=\"sk-top-container\"><div class=\"sk-text-repr-fallback\"><pre>KNeighborsClassifier(n_neighbors=10)</pre><b>In a Jupyter environment, please rerun this cell to show the HTML representation or trust the notebook. <br />On GitHub, the HTML representation is unable to render, please try loading this page with nbviewer.org.</b></div><div class=\"sk-container\" hidden><div class=\"sk-item\"><div class=\"sk-estimator sk-toggleable\"><input class=\"sk-toggleable__control sk-hidden--visually\" id=\"sk-estimator-id-1\" type=\"checkbox\" checked><label for=\"sk-estimator-id-1\" class=\"sk-toggleable__label sk-toggleable__label-arrow\">KNeighborsClassifier</label><div class=\"sk-toggleable__content\"><pre>KNeighborsClassifier(n_neighbors=10)</pre></div></div></div></div></div>"
      ],
      "text/plain": [
       "KNeighborsClassifier(n_neighbors=10)"
      ]
     },
     "execution_count": 13,
     "metadata": {},
     "output_type": "execute_result"
    }
   ],
   "source": [
    "# Train the classifier on the training data\n",
    "knn_classifier.fit(x_train, y_train)"
   ]
  },
  {
   "cell_type": "code",
   "execution_count": 14,
   "id": "334c58cb",
   "metadata": {},
   "outputs": [],
   "source": [
    "# Make predictions on the testing data\n",
    "y_pred = knn_classifier.predict(x_test)"
   ]
  },
  {
   "cell_type": "code",
   "execution_count": 19,
   "id": "c1af1bbd",
   "metadata": {},
   "outputs": [],
   "source": [
    "# feature names / class names\n",
    "feature_names = ['SourcePort', 'DestinationPort', 'Duration', 'FlowBytesSent', 'FlowSentRate', 'FlowBytesReceived', 'FlowReceivedRate', 'PacketLengthMean', 'PacketTimeMean', 'ResponseTimeTimeMean']\n",
    "class_names = ['Benign', 'Malicious']"
   ]
  },
  {
   "cell_type": "code",
   "execution_count": 20,
   "id": "1d784515",
   "metadata": {},
   "outputs": [
    {
     "name": "stdout",
     "output_type": "stream",
     "text": [
      "[[179366   2404]\n",
      " [  1631  48448]]\n"
     ]
    }
   ],
   "source": [
    "# confusion matrix\n",
    "conf_matrix = confusion_matrix(y_test, y_pred)\n",
    "print(conf_matrix)"
   ]
  },
  {
   "cell_type": "code",
   "execution_count": 21,
   "id": "70b2fe09",
   "metadata": {},
   "outputs": [
    {
     "data": {
      "image/png": "[encoded data removed]",
      "text/plain": [
       "<Figure size 800x600 with 2 Axes>"
      ]
     },
     "metadata": {},
     "output_type": "display_data"
    }
   ],
   "source": [
    "plt.figure(figsize=(8, 6))\n",
    "sns.heatmap(conf_matrix, annot=True, fmt=\"d\", cmap=\"Blues\", xticklabels=class_names, yticklabels=class_names)\n",
    "plt.xlabel(\"Predicted\")\n",
    "plt.ylabel(\"True\")\n",
    "plt.title(\"Confusion Matrix\")\n",
    "plt.show()"
   ]
  },
  {
   "cell_type": "code",
   "execution_count": 17,
   "id": "61dc97e0",
   "metadata": {},
   "outputs": [
    {
     "name": "stdout",
     "output_type": "stream",
     "text": [
      "Accuracy: 98.26%\n"
     ]
    }
   ],
   "source": [
    "# accuracy\n",
    "accuracy = accuracy_score(y_test, y_pred)\n",
    "print(f\"Accuracy: {accuracy * 100:.2f}%\")"
   ]
  },
  {
   "cell_type": "markdown",
   "id": "bfc088cd",
   "metadata": {},
   "source": [
    "## Decision Tree"
   ]
  },
  {
   "cell_type": "code",
   "execution_count": 22,
   "id": "ca7e1148",
   "metadata": {},
   "outputs": [],
   "source": [
    "# Create a Decision Tree classifier\n",
    "decision_tree_classifier = DecisionTreeClassifier()"
   ]
  },
  {
   "cell_type": "code",
   "execution_count": 23,
   "id": "e494d60f",
   "metadata": {},
   "outputs": [
    {
     "data": {
      "text/html": [
       "<style>#sk-container-id-2 {color: black;}#sk-container-id-2 pre{padding: 0;}#sk-container-id-2 div.sk-toggleable {background-color: white;}#sk-container-id-2 label.sk-toggleable__label {cursor: pointer;display: block;width: 100%;margin-bottom: 0;padding: 0.3em;box-sizing: border-box;text-align: center;}#sk-container-id-2 label.sk-toggleable__label-arrow:before {content: \"▸\";float: left;margin-right: 0.25em;color: #696969;}#sk-container-id-2 label.sk-toggleable__label-arrow:hover:before {color: black;}#sk-container-id-2 div.sk-estimator:hover label.sk-toggleable__label-arrow:before {color: black;}#sk-container-id-2 div.sk-toggleable__content {max-height: 0;max-width: 0;overflow: hidden;text-align: left;background-color: #f0f8ff;}#sk-container-id-2 div.sk-toggleable__content pre {margin: 0.2em;color: black;border-radius: 0.25em;background-color: #f0f8ff;}#sk-container-id-2 input.sk-toggleable__control:checked~div.sk-toggleable__content {max-height: 200px;max-width: 100%;overflow: auto;}#sk-container-id-2 input.sk-toggleable__control:checked~label.sk-toggleable__label-arrow:before {content: \"▾\";}#sk-container-id-2 div.sk-estimator input.sk-toggleable__control:checked~label.sk-toggleable__label {background-color: #d4ebff;}#sk-container-id-2 div.sk-label input.sk-toggleable__control:checked~label.sk-toggleable__label {background-color: #d4ebff;}#sk-container-id-2 input.sk-hidden--visually {border: 0;clip: rect(1px 1px 1px 1px);clip: rect(1px, 1px, 1px, 1px);height: 1px;margin: -1px;overflow: hidden;padding: 0;position: absolute;width: 1px;}#sk-container-id-2 div.sk-estimator {font-family: monospace;background-color: #f0f8ff;border: 1px dotted black;border-radius: 0.25em;box-sizing: border-box;margin-bottom: 0.5em;}#sk-container-id-2 div.sk-estimator:hover {background-color: #d4ebff;}#sk-container-id-2 div.sk-parallel-item::after {content: \"\";width: 100%;border-bottom: 1px solid gray;flex-grow: 1;}#sk-container-id-2 div.sk-label:hover label.sk-toggleable__label {background-color: #d4ebff;}#sk-container-id-2 div.sk-serial::before {content: \"\";position: absolute;border-left: 1px solid gray;box-sizing: border-box;top: 0;bottom: 0;left: 50%;z-index: 0;}#sk-container-id-2 div.sk-serial {display: flex;flex-direction: column;align-items: center;background-color: white;padding-right: 0.2em;padding-left: 0.2em;position: relative;}#sk-container-id-2 div.sk-item {position: relative;z-index: 1;}#sk-container-id-2 div.sk-parallel {display: flex;align-items: stretch;justify-content: center;background-color: white;position: relative;}#sk-container-id-2 div.sk-item::before, #sk-container-id-2 div.sk-parallel-item::before {content: \"\";position: absolute;border-left: 1px solid gray;box-sizing: border-box;top: 0;bottom: 0;left: 50%;z-index: -1;}#sk-container-id-2 div.sk-parallel-item {display: flex;flex-direction: column;z-index: 1;position: relative;background-color: white;}#sk-container-id-2 div.sk-parallel-item:first-child::after {align-self: flex-end;width: 50%;}#sk-container-id-2 div.sk-parallel-item:last-child::after {align-self: flex-start;width: 50%;}#sk-container-id-2 div.sk-parallel-item:only-child::after {width: 0;}#sk-container-id-2 div.sk-dashed-wrapped {border: 1px dashed gray;margin: 0 0.4em 0.5em 0.4em;box-sizing: border-box;padding-bottom: 0.4em;background-color: white;}#sk-container-id-2 div.sk-label label {font-family: monospace;font-weight: bold;display: inline-block;line-height: 1.2em;}#sk-container-id-2 div.sk-label-container {text-align: center;}#sk-container-id-2 div.sk-container {/* jupyter's `normalize.less` sets `[hidden] { display: none; }` but bootstrap.min.css set `[hidden] { display: none !important; }` so we also need the `!important` here to be able to override the default hidden behavior on the sphinx rendered scikit-learn.org. See: https://github.com/scikit-learn/scikit-learn/issues/21755 */display: inline-block !important;position: relative;}#sk-container-id-2 div.sk-text-repr-fallback {display: none;}</style><div id=\"sk-container-id-2\" class=\"sk-top-container\"><div class=\"sk-text-repr-fallback\"><pre>DecisionTreeClassifier()</pre><b>In a Jupyter environment, please rerun this cell to show the HTML representation or trust the notebook. <br />On GitHub, the HTML representation is unable to render, please try loading this page with nbviewer.org.</b></div><div class=\"sk-container\" hidden><div class=\"sk-item\"><div class=\"sk-estimator sk-toggleable\"><input class=\"sk-toggleable__control sk-hidden--visually\" id=\"sk-estimator-id-2\" type=\"checkbox\" checked><label for=\"sk-estimator-id-2\" class=\"sk-toggleable__label sk-toggleable__label-arrow\">DecisionTreeClassifier</label><div class=\"sk-toggleable__content\"><pre>DecisionTreeClassifier()</pre></div></div></div></div></div>"
      ],
      "text/plain": [
       "DecisionTreeClassifier()"
      ]
     },
     "execution_count": 23,
     "metadata": {},
     "output_type": "execute_result"
    }
   ],
   "source": [
    "# Train the classifier on the training data\n",
    "decision_tree_classifier.fit(x_train, y_train)"
   ]
  },
  {
   "cell_type": "code",
   "execution_count": 24,
   "id": "40efd052",
   "metadata": {},
   "outputs": [],
   "source": [
    "# Make predictions on the testing data\n",
    "y_pred = decision_tree_classifier.predict(x_test)"
   ]
  },
  {
   "cell_type": "code",
   "execution_count": 25,
   "id": "44e51fdb",
   "metadata": {},
   "outputs": [
    {
     "name": "stdout",
     "output_type": "stream",
     "text": [
      "[[181292    478]\n",
      " [   391  49688]]\n"
     ]
    }
   ],
   "source": [
    "# confusion matrix\n",
    "conf_matrix = confusion_matrix(y_test, y_pred)\n",
    "print(conf_matrix)"
   ]
  },
  {
   "cell_type": "code",
   "execution_count": 26,
   "id": "2b38aad7",
   "metadata": {},
   "outputs": [
    {
     "data": {
      "image/png": "[encoded data removed]",
      "text/plain": [
       "<Figure size 800x600 with 2 Axes>"
      ]
     },
     "metadata": {},
     "output_type": "display_data"
    }
   ],
   "source": [
    "plt.figure(figsize=(8, 6))\n",
    "sns.heatmap(conf_matrix, annot=True, fmt=\"d\", cmap=\"Blues\", xticklabels=class_names, yticklabels=class_names)\n",
    "plt.xlabel(\"Predicted\")\n",
    "plt.ylabel(\"True\")\n",
    "plt.title(\"Confusion Matrix\")\n",
    "plt.show()"
   ]
  },
  {
   "cell_type": "code",
   "execution_count": 32,
   "id": "471941ad",
   "metadata": {},
   "outputs": [
    {
     "name": "stdout",
     "output_type": "stream",
     "text": [
      "Accuracy: 99.62%\n"
     ]
    }
   ],
   "source": [
    "# accuracy\n",
    "accuracy = accuracy_score(y_test, y_pred)\n",
    "print(f\"Accuracy: {accuracy * 100:.2f}%\")"
   ]
  },
  {
   "cell_type": "code",
   "execution_count": 27,
   "id": "32292da3",
   "metadata": {},
   "outputs": [
    {
     "data": {
      "text/plain": [
       "'decision_tree_graphivz.png'"
      ]
     },
     "execution_count": 27,
     "metadata": {},
     "output_type": "execute_result"
    }
   ],
   "source": [
    "# plot the decision tree + save as png\n",
    "\n",
    "dot_data = tree.export_graphviz(decision_tree_classifier, out_file=None, max_depth=3, \n",
    "                                feature_names=feature_names,  \n",
    "                                class_names=class_names,\n",
    "                                filled=True)\n",
    "\n",
    "graph = graphviz.Source(dot_data, format=\"png\") \n",
    "type(graph)\n",
    "\n",
    "graph.render(\"decision_tree_graphivz\")"
   ]
  },
  {
   "cell_type": "code",
   "execution_count": null,
   "id": "e4d56ee8",
   "metadata": {},
   "outputs": [],
   "source": []
  }
 ],
 "metadata": {
  "kernelspec": {
   "display_name": "Python 3 (ipykernel)",
   "language": "python",
   "name": "python3"
  },
  "language_info": {
   "codemirror_mode": {
    "name": "ipython",
    "version": 3
   },
   "file_extension": ".py",
   "mimetype": "text/x-python",
   "name": "python",
   "nbconvert_exporter": "python",
   "pygments_lexer": "ipython3",
   "version": "3.11.5"
  }
 },
 "nbformat": 4,
 "nbformat_minor": 5
}
